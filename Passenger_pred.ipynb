{
  "nbformat": 4,
  "nbformat_minor": 0,
  "metadata": {
    "colab": {
      "provenance": [],
      "authorship_tag": "ABX9TyNVa+ZlZPwUthdcmu6jEVkZ",
      "include_colab_link": true
    },
    "kernelspec": {
      "name": "python3",
      "display_name": "Python 3"
    },
    "language_info": {
      "name": "python"
    }
  },
  "cells": [
    {
      "cell_type": "markdown",
      "metadata": {
        "id": "view-in-github",
        "colab_type": "text"
      },
      "source": [
        "<a href=\"https://colab.research.google.com/github/manyasahay/Time-Series/blob/main/Passenger_pred.ipynb\" target=\"_parent\"><img src=\"https://colab.research.google.com/assets/colab-badge.svg\" alt=\"Open In Colab\"/></a>"
      ]
    },
    {
      "cell_type": "code",
      "execution_count": null,
      "metadata": {
        "id": "abPqayIFAH-P"
      },
      "outputs": [],
      "source": [
        "import pandas as pd"
      ]
    },
    {
      "cell_type": "code",
      "source": [
        "data = pd.read_csv('/content/AirPassengers (1).csv')"
      ],
      "metadata": {
        "id": "XJurwgJkAM4f"
      },
      "execution_count": null,
      "outputs": []
    },
    {
      "cell_type": "code",
      "source": [
        "data.dtypes"
      ],
      "metadata": {
        "colab": {
          "base_uri": "https://localhost:8080/"
        },
        "id": "BwafIdSOATXc",
        "outputId": "833a7c44-1242-49b4-9ee6-88fb0003a0c0"
      },
      "execution_count": null,
      "outputs": [
        {
          "output_type": "execute_result",
          "data": {
            "text/plain": [
              "Month          object\n",
              "#Passengers     int64\n",
              "dtype: object"
            ]
          },
          "metadata": {},
          "execution_count": 3
        }
      ]
    },
    {
      "cell_type": "code",
      "source": [
        "data['Month'] = pd.to_datetime(data['Month'], infer_datetime_format=True)\n",
        "print(data)"
      ],
      "metadata": {
        "colab": {
          "base_uri": "https://localhost:8080/"
        },
        "id": "OTrMY3bOBE1z",
        "outputId": "d63f56ec-3af9-4428-c627-5ff8b1a75e86"
      },
      "execution_count": null,
      "outputs": [
        {
          "output_type": "stream",
          "name": "stdout",
          "text": [
            "         Month  #Passengers\n",
            "0   1949-01-01          112\n",
            "1   1949-02-01          118\n",
            "2   1949-03-01          132\n",
            "3   1949-04-01          129\n",
            "4   1949-05-01          121\n",
            "..         ...          ...\n",
            "139 1960-08-01          606\n",
            "140 1960-09-01          508\n",
            "141 1960-10-01          461\n",
            "142 1960-11-01          390\n",
            "143 1960-12-01          432\n",
            "\n",
            "[144 rows x 2 columns]\n"
          ]
        },
        {
          "output_type": "stream",
          "name": "stderr",
          "text": [
            "<ipython-input-7-985207d22284>:1: UserWarning: The argument 'infer_datetime_format' is deprecated and will be removed in a future version. A strict version of it is now the default, see https://pandas.pydata.org/pdeps/0004-consistent-to-datetime-parsing.html. You can safely remove this argument.\n",
            "  data['Month'] = pd.to_datetime(data['Month'], infer_datetime_format=True)\n"
          ]
        }
      ]
    },
    {
      "cell_type": "code",
      "source": [
        "data.dtypes"
      ],
      "metadata": {
        "colab": {
          "base_uri": "https://localhost:8080/"
        },
        "id": "CgW5J1HeBc0O",
        "outputId": "46421fd6-83a1-481f-e1a7-03e7c8d339bb"
      },
      "execution_count": null,
      "outputs": [
        {
          "output_type": "execute_result",
          "data": {
            "text/plain": [
              "Month          datetime64[ns]\n",
              "#Passengers             int64\n",
              "dtype: object"
            ]
          },
          "metadata": {},
          "execution_count": 8
        }
      ]
    },
    {
      "cell_type": "code",
      "source": [
        "data['lag1'] = data['#Passengers'].shift(1)\n",
        "print(data)"
      ],
      "metadata": {
        "colab": {
          "base_uri": "https://localhost:8080/"
        },
        "id": "QP-3VBnXChi4",
        "outputId": "7068aa57-e903-4639-cc94-b678e3fc3c29"
      },
      "execution_count": null,
      "outputs": [
        {
          "output_type": "stream",
          "name": "stdout",
          "text": [
            "         Month  #Passengers   lag1\n",
            "0   1949-01-01          112    NaN\n",
            "1   1949-02-01          118  112.0\n",
            "2   1949-03-01          132  118.0\n",
            "3   1949-04-01          129  132.0\n",
            "4   1949-05-01          121  129.0\n",
            "..         ...          ...    ...\n",
            "139 1960-08-01          606  622.0\n",
            "140 1960-09-01          508  606.0\n",
            "141 1960-10-01          461  508.0\n",
            "142 1960-11-01          390  461.0\n",
            "143 1960-12-01          432  390.0\n",
            "\n",
            "[144 rows x 3 columns]\n"
          ]
        }
      ]
    },
    {
      "cell_type": "code",
      "source": [
        "data['lag2'] = data['#Passengers'].shift(2)\n",
        "data['lag3'] = data['#Passengers'].shift(3)\n",
        "data['lag4'] = data['#Passengers'].shift(4)\n",
        "print(data)"
      ],
      "metadata": {
        "colab": {
          "base_uri": "https://localhost:8080/"
        },
        "id": "-hn0yeiCCy5X",
        "outputId": "d5a4c17f-1a8e-47af-b288-b32b40ad6314"
      },
      "execution_count": null,
      "outputs": [
        {
          "output_type": "stream",
          "name": "stdout",
          "text": [
            "         Month  #Passengers   lag1   lag2   lag3   lag4\n",
            "0   1949-01-01          112    NaN    NaN    NaN    NaN\n",
            "1   1949-02-01          118  112.0    NaN    NaN    NaN\n",
            "2   1949-03-01          132  118.0  112.0    NaN    NaN\n",
            "3   1949-04-01          129  132.0  118.0  112.0    NaN\n",
            "4   1949-05-01          121  129.0  132.0  118.0  112.0\n",
            "..         ...          ...    ...    ...    ...    ...\n",
            "139 1960-08-01          606  622.0  535.0  472.0  461.0\n",
            "140 1960-09-01          508  606.0  622.0  535.0  472.0\n",
            "141 1960-10-01          461  508.0  606.0  622.0  535.0\n",
            "142 1960-11-01          390  461.0  508.0  606.0  622.0\n",
            "143 1960-12-01          432  390.0  461.0  508.0  606.0\n",
            "\n",
            "[144 rows x 6 columns]\n"
          ]
        }
      ]
    },
    {
      "cell_type": "code",
      "source": [
        "data.drop(data.head(4).index, inplace=True)\n",
        "print(data)"
      ],
      "metadata": {
        "colab": {
          "base_uri": "https://localhost:8080/"
        },
        "id": "FBIFZbM9DD3r",
        "outputId": "d941aa91-bac0-42dc-c9bd-a8b2dbd3a378"
      },
      "execution_count": null,
      "outputs": [
        {
          "output_type": "stream",
          "name": "stdout",
          "text": [
            "         Month  #Passengers   lag1   lag2   lag3   lag4\n",
            "7   1949-08-01          148  148.0  135.0  121.0  129.0\n",
            "8   1949-09-01          136  148.0  148.0  135.0  121.0\n",
            "9   1949-10-01          119  136.0  148.0  148.0  135.0\n",
            "10  1949-11-01          104  119.0  136.0  148.0  148.0\n",
            "11  1949-12-01          118  104.0  119.0  136.0  148.0\n",
            "..         ...          ...    ...    ...    ...    ...\n",
            "139 1960-08-01          606  622.0  535.0  472.0  461.0\n",
            "140 1960-09-01          508  606.0  622.0  535.0  472.0\n",
            "141 1960-10-01          461  508.0  606.0  622.0  535.0\n",
            "142 1960-11-01          390  461.0  508.0  606.0  622.0\n",
            "143 1960-12-01          432  390.0  461.0  508.0  606.0\n",
            "\n",
            "[137 rows x 6 columns]\n"
          ]
        }
      ]
    },
    {
      "cell_type": "markdown",
      "source": [
        "Regression model"
      ],
      "metadata": {
        "id": "Vq6NKP8XDqPV"
      }
    },
    {
      "cell_type": "code",
      "source": [
        "import numpy as np\n",
        "import matplotlib.pyplot as plt\n",
        "from sklearn.model_selection import train_test_split\n",
        "from sklearn.compose import ColumnTransformer\n",
        "from sklearn.preprocessing import OneHotEncoder\n",
        "from sklearn.linear_model import LinearRegression"
      ],
      "metadata": {
        "id": "lBeUNLd8DV-O"
      },
      "execution_count": null,
      "outputs": []
    },
    {
      "cell_type": "code",
      "source": [
        "data.describe()"
      ],
      "metadata": {
        "colab": {
          "base_uri": "https://localhost:8080/",
          "height": 300
        },
        "id": "PG0JwWdnDmkN",
        "outputId": "8820258e-8c4f-4acb-a0dc-89cd9687a56c"
      },
      "execution_count": null,
      "outputs": [
        {
          "output_type": "execute_result",
          "data": {
            "text/plain": [
              "                               Month  #Passengers        lag1        lag2  \\\n",
              "count                            137   137.000000  137.000000  137.000000   \n",
              "mean   1955-04-01 17:41:36.350364992   288.087591  286.014599  284.153285   \n",
              "min              1949-08-01 00:00:00   104.000000  104.000000  104.000000   \n",
              "25%              1952-06-01 00:00:00   191.000000  188.000000  184.000000   \n",
              "50%              1955-04-01 00:00:00   271.000000  270.000000  269.000000   \n",
              "75%              1958-02-01 00:00:00   362.000000  362.000000  360.000000   \n",
              "max              1960-12-01 00:00:00   622.000000  622.000000  622.000000   \n",
              "std                              NaN   117.766998  117.714697  118.073873   \n",
              "\n",
              "             lag3        lag4  \n",
              "count  137.000000  137.000000  \n",
              "mean   281.671533  278.905109  \n",
              "min    104.000000  104.000000  \n",
              "25%    183.000000  181.000000  \n",
              "50%    267.000000  264.000000  \n",
              "75%    359.000000  356.000000  \n",
              "max    622.000000  622.000000  \n",
              "std    117.902509  116.995845  "
            ],
            "text/html": [
              "\n",
              "  <div id=\"df-34b48755-1752-4466-91ea-70057d15e3e6\" class=\"colab-df-container\">\n",
              "    <div>\n",
              "<style scoped>\n",
              "    .dataframe tbody tr th:only-of-type {\n",
              "        vertical-align: middle;\n",
              "    }\n",
              "\n",
              "    .dataframe tbody tr th {\n",
              "        vertical-align: top;\n",
              "    }\n",
              "\n",
              "    .dataframe thead th {\n",
              "        text-align: right;\n",
              "    }\n",
              "</style>\n",
              "<table border=\"1\" class=\"dataframe\">\n",
              "  <thead>\n",
              "    <tr style=\"text-align: right;\">\n",
              "      <th></th>\n",
              "      <th>Month</th>\n",
              "      <th>#Passengers</th>\n",
              "      <th>lag1</th>\n",
              "      <th>lag2</th>\n",
              "      <th>lag3</th>\n",
              "      <th>lag4</th>\n",
              "    </tr>\n",
              "  </thead>\n",
              "  <tbody>\n",
              "    <tr>\n",
              "      <th>count</th>\n",
              "      <td>137</td>\n",
              "      <td>137.000000</td>\n",
              "      <td>137.000000</td>\n",
              "      <td>137.000000</td>\n",
              "      <td>137.000000</td>\n",
              "      <td>137.000000</td>\n",
              "    </tr>\n",
              "    <tr>\n",
              "      <th>mean</th>\n",
              "      <td>1955-04-01 17:41:36.350364992</td>\n",
              "      <td>288.087591</td>\n",
              "      <td>286.014599</td>\n",
              "      <td>284.153285</td>\n",
              "      <td>281.671533</td>\n",
              "      <td>278.905109</td>\n",
              "    </tr>\n",
              "    <tr>\n",
              "      <th>min</th>\n",
              "      <td>1949-08-01 00:00:00</td>\n",
              "      <td>104.000000</td>\n",
              "      <td>104.000000</td>\n",
              "      <td>104.000000</td>\n",
              "      <td>104.000000</td>\n",
              "      <td>104.000000</td>\n",
              "    </tr>\n",
              "    <tr>\n",
              "      <th>25%</th>\n",
              "      <td>1952-06-01 00:00:00</td>\n",
              "      <td>191.000000</td>\n",
              "      <td>188.000000</td>\n",
              "      <td>184.000000</td>\n",
              "      <td>183.000000</td>\n",
              "      <td>181.000000</td>\n",
              "    </tr>\n",
              "    <tr>\n",
              "      <th>50%</th>\n",
              "      <td>1955-04-01 00:00:00</td>\n",
              "      <td>271.000000</td>\n",
              "      <td>270.000000</td>\n",
              "      <td>269.000000</td>\n",
              "      <td>267.000000</td>\n",
              "      <td>264.000000</td>\n",
              "    </tr>\n",
              "    <tr>\n",
              "      <th>75%</th>\n",
              "      <td>1958-02-01 00:00:00</td>\n",
              "      <td>362.000000</td>\n",
              "      <td>362.000000</td>\n",
              "      <td>360.000000</td>\n",
              "      <td>359.000000</td>\n",
              "      <td>356.000000</td>\n",
              "    </tr>\n",
              "    <tr>\n",
              "      <th>max</th>\n",
              "      <td>1960-12-01 00:00:00</td>\n",
              "      <td>622.000000</td>\n",
              "      <td>622.000000</td>\n",
              "      <td>622.000000</td>\n",
              "      <td>622.000000</td>\n",
              "      <td>622.000000</td>\n",
              "    </tr>\n",
              "    <tr>\n",
              "      <th>std</th>\n",
              "      <td>NaN</td>\n",
              "      <td>117.766998</td>\n",
              "      <td>117.714697</td>\n",
              "      <td>118.073873</td>\n",
              "      <td>117.902509</td>\n",
              "      <td>116.995845</td>\n",
              "    </tr>\n",
              "  </tbody>\n",
              "</table>\n",
              "</div>\n",
              "    <div class=\"colab-df-buttons\">\n",
              "\n",
              "  <div class=\"colab-df-container\">\n",
              "    <button class=\"colab-df-convert\" onclick=\"convertToInteractive('df-34b48755-1752-4466-91ea-70057d15e3e6')\"\n",
              "            title=\"Convert this dataframe to an interactive table.\"\n",
              "            style=\"display:none;\">\n",
              "\n",
              "  <svg xmlns=\"http://www.w3.org/2000/svg\" height=\"24px\" viewBox=\"0 -960 960 960\">\n",
              "    <path d=\"M120-120v-720h720v720H120Zm60-500h600v-160H180v160Zm220 220h160v-160H400v160Zm0 220h160v-160H400v160ZM180-400h160v-160H180v160Zm440 0h160v-160H620v160ZM180-180h160v-160H180v160Zm440 0h160v-160H620v160Z\"/>\n",
              "  </svg>\n",
              "    </button>\n",
              "\n",
              "  <style>\n",
              "    .colab-df-container {\n",
              "      display:flex;\n",
              "      gap: 12px;\n",
              "    }\n",
              "\n",
              "    .colab-df-convert {\n",
              "      background-color: #E8F0FE;\n",
              "      border: none;\n",
              "      border-radius: 50%;\n",
              "      cursor: pointer;\n",
              "      display: none;\n",
              "      fill: #1967D2;\n",
              "      height: 32px;\n",
              "      padding: 0 0 0 0;\n",
              "      width: 32px;\n",
              "    }\n",
              "\n",
              "    .colab-df-convert:hover {\n",
              "      background-color: #E2EBFA;\n",
              "      box-shadow: 0px 1px 2px rgba(60, 64, 67, 0.3), 0px 1px 3px 1px rgba(60, 64, 67, 0.15);\n",
              "      fill: #174EA6;\n",
              "    }\n",
              "\n",
              "    .colab-df-buttons div {\n",
              "      margin-bottom: 4px;\n",
              "    }\n",
              "\n",
              "    [theme=dark] .colab-df-convert {\n",
              "      background-color: #3B4455;\n",
              "      fill: #D2E3FC;\n",
              "    }\n",
              "\n",
              "    [theme=dark] .colab-df-convert:hover {\n",
              "      background-color: #434B5C;\n",
              "      box-shadow: 0px 1px 3px 1px rgba(0, 0, 0, 0.15);\n",
              "      filter: drop-shadow(0px 1px 2px rgba(0, 0, 0, 0.3));\n",
              "      fill: #FFFFFF;\n",
              "    }\n",
              "  </style>\n",
              "\n",
              "    <script>\n",
              "      const buttonEl =\n",
              "        document.querySelector('#df-34b48755-1752-4466-91ea-70057d15e3e6 button.colab-df-convert');\n",
              "      buttonEl.style.display =\n",
              "        google.colab.kernel.accessAllowed ? 'block' : 'none';\n",
              "\n",
              "      async function convertToInteractive(key) {\n",
              "        const element = document.querySelector('#df-34b48755-1752-4466-91ea-70057d15e3e6');\n",
              "        const dataTable =\n",
              "          await google.colab.kernel.invokeFunction('convertToInteractive',\n",
              "                                                    [key], {});\n",
              "        if (!dataTable) return;\n",
              "\n",
              "        const docLinkHtml = 'Like what you see? Visit the ' +\n",
              "          '<a target=\"_blank\" href=https://colab.research.google.com/notebooks/data_table.ipynb>data table notebook</a>'\n",
              "          + ' to learn more about interactive tables.';\n",
              "        element.innerHTML = '';\n",
              "        dataTable['output_type'] = 'display_data';\n",
              "        await google.colab.output.renderOutput(dataTable, element);\n",
              "        const docLink = document.createElement('div');\n",
              "        docLink.innerHTML = docLinkHtml;\n",
              "        element.appendChild(docLink);\n",
              "      }\n",
              "    </script>\n",
              "  </div>\n",
              "\n",
              "\n",
              "<div id=\"df-10130d70-2e35-445c-89d9-60df5f2f2431\">\n",
              "  <button class=\"colab-df-quickchart\" onclick=\"quickchart('df-10130d70-2e35-445c-89d9-60df5f2f2431')\"\n",
              "            title=\"Suggest charts\"\n",
              "            style=\"display:none;\">\n",
              "\n",
              "<svg xmlns=\"http://www.w3.org/2000/svg\" height=\"24px\"viewBox=\"0 0 24 24\"\n",
              "     width=\"24px\">\n",
              "    <g>\n",
              "        <path d=\"M19 3H5c-1.1 0-2 .9-2 2v14c0 1.1.9 2 2 2h14c1.1 0 2-.9 2-2V5c0-1.1-.9-2-2-2zM9 17H7v-7h2v7zm4 0h-2V7h2v10zm4 0h-2v-4h2v4z\"/>\n",
              "    </g>\n",
              "</svg>\n",
              "  </button>\n",
              "\n",
              "<style>\n",
              "  .colab-df-quickchart {\n",
              "      --bg-color: #E8F0FE;\n",
              "      --fill-color: #1967D2;\n",
              "      --hover-bg-color: #E2EBFA;\n",
              "      --hover-fill-color: #174EA6;\n",
              "      --disabled-fill-color: #AAA;\n",
              "      --disabled-bg-color: #DDD;\n",
              "  }\n",
              "\n",
              "  [theme=dark] .colab-df-quickchart {\n",
              "      --bg-color: #3B4455;\n",
              "      --fill-color: #D2E3FC;\n",
              "      --hover-bg-color: #434B5C;\n",
              "      --hover-fill-color: #FFFFFF;\n",
              "      --disabled-bg-color: #3B4455;\n",
              "      --disabled-fill-color: #666;\n",
              "  }\n",
              "\n",
              "  .colab-df-quickchart {\n",
              "    background-color: var(--bg-color);\n",
              "    border: none;\n",
              "    border-radius: 50%;\n",
              "    cursor: pointer;\n",
              "    display: none;\n",
              "    fill: var(--fill-color);\n",
              "    height: 32px;\n",
              "    padding: 0;\n",
              "    width: 32px;\n",
              "  }\n",
              "\n",
              "  .colab-df-quickchart:hover {\n",
              "    background-color: var(--hover-bg-color);\n",
              "    box-shadow: 0 1px 2px rgba(60, 64, 67, 0.3), 0 1px 3px 1px rgba(60, 64, 67, 0.15);\n",
              "    fill: var(--button-hover-fill-color);\n",
              "  }\n",
              "\n",
              "  .colab-df-quickchart-complete:disabled,\n",
              "  .colab-df-quickchart-complete:disabled:hover {\n",
              "    background-color: var(--disabled-bg-color);\n",
              "    fill: var(--disabled-fill-color);\n",
              "    box-shadow: none;\n",
              "  }\n",
              "\n",
              "  .colab-df-spinner {\n",
              "    border: 2px solid var(--fill-color);\n",
              "    border-color: transparent;\n",
              "    border-bottom-color: var(--fill-color);\n",
              "    animation:\n",
              "      spin 1s steps(1) infinite;\n",
              "  }\n",
              "\n",
              "  @keyframes spin {\n",
              "    0% {\n",
              "      border-color: transparent;\n",
              "      border-bottom-color: var(--fill-color);\n",
              "      border-left-color: var(--fill-color);\n",
              "    }\n",
              "    20% {\n",
              "      border-color: transparent;\n",
              "      border-left-color: var(--fill-color);\n",
              "      border-top-color: var(--fill-color);\n",
              "    }\n",
              "    30% {\n",
              "      border-color: transparent;\n",
              "      border-left-color: var(--fill-color);\n",
              "      border-top-color: var(--fill-color);\n",
              "      border-right-color: var(--fill-color);\n",
              "    }\n",
              "    40% {\n",
              "      border-color: transparent;\n",
              "      border-right-color: var(--fill-color);\n",
              "      border-top-color: var(--fill-color);\n",
              "    }\n",
              "    60% {\n",
              "      border-color: transparent;\n",
              "      border-right-color: var(--fill-color);\n",
              "    }\n",
              "    80% {\n",
              "      border-color: transparent;\n",
              "      border-right-color: var(--fill-color);\n",
              "      border-bottom-color: var(--fill-color);\n",
              "    }\n",
              "    90% {\n",
              "      border-color: transparent;\n",
              "      border-bottom-color: var(--fill-color);\n",
              "    }\n",
              "  }\n",
              "</style>\n",
              "\n",
              "  <script>\n",
              "    async function quickchart(key) {\n",
              "      const quickchartButtonEl =\n",
              "        document.querySelector('#' + key + ' button');\n",
              "      quickchartButtonEl.disabled = true;  // To prevent multiple clicks.\n",
              "      quickchartButtonEl.classList.add('colab-df-spinner');\n",
              "      try {\n",
              "        const charts = await google.colab.kernel.invokeFunction(\n",
              "            'suggestCharts', [key], {});\n",
              "      } catch (error) {\n",
              "        console.error('Error during call to suggestCharts:', error);\n",
              "      }\n",
              "      quickchartButtonEl.classList.remove('colab-df-spinner');\n",
              "      quickchartButtonEl.classList.add('colab-df-quickchart-complete');\n",
              "    }\n",
              "    (() => {\n",
              "      let quickchartButtonEl =\n",
              "        document.querySelector('#df-10130d70-2e35-445c-89d9-60df5f2f2431 button');\n",
              "      quickchartButtonEl.style.display =\n",
              "        google.colab.kernel.accessAllowed ? 'block' : 'none';\n",
              "    })();\n",
              "  </script>\n",
              "</div>\n",
              "\n",
              "    </div>\n",
              "  </div>\n"
            ],
            "application/vnd.google.colaboratory.intrinsic+json": {
              "type": "dataframe",
              "summary": "{\n  \"name\": \"data\",\n  \"rows\": 8,\n  \"fields\": [\n    {\n      \"column\": \"Month\",\n      \"properties\": {\n        \"dtype\": \"date\",\n        \"min\": \"1949-08-01 00:00:00\",\n        \"max\": \"1970-01-01 00:00:00.000000137\",\n        \"num_unique_values\": 7,\n        \"samples\": [\n          \"137\",\n          \"1955-04-01 17:41:36.350364992\",\n          \"1958-02-01 00:00:00\"\n        ],\n        \"semantic_type\": \"\",\n        \"description\": \"\"\n      }\n    },\n    {\n      \"column\": \"#Passengers\",\n      \"properties\": {\n        \"dtype\": \"number\",\n        \"std\": 171.87764942478938,\n        \"min\": 104.0,\n        \"max\": 622.0,\n        \"num_unique_values\": 8,\n        \"samples\": [\n          288.0875912408759,\n          362.0,\n          137.0\n        ],\n        \"semantic_type\": \"\",\n        \"description\": \"\"\n      }\n    },\n    {\n      \"column\": \"lag1\",\n      \"properties\": {\n        \"dtype\": \"number\",\n        \"std\": 172.01046749159553,\n        \"min\": 104.0,\n        \"max\": 622.0,\n        \"num_unique_values\": 8,\n        \"samples\": [\n          286.014598540146,\n          362.0,\n          137.0\n        ],\n        \"semantic_type\": \"\",\n        \"description\": \"\"\n      }\n    },\n    {\n      \"column\": \"lag2\",\n      \"properties\": {\n        \"dtype\": \"number\",\n        \"std\": 172.001666817942,\n        \"min\": 104.0,\n        \"max\": 622.0,\n        \"num_unique_values\": 8,\n        \"samples\": [\n          284.15328467153284,\n          360.0,\n          137.0\n        ],\n        \"semantic_type\": \"\",\n        \"description\": \"\"\n      }\n    },\n    {\n      \"column\": \"lag3\",\n      \"properties\": {\n        \"dtype\": \"number\",\n        \"std\": 171.93872567617856,\n        \"min\": 104.0,\n        \"max\": 622.0,\n        \"num_unique_values\": 8,\n        \"samples\": [\n          281.6715328467153,\n          359.0,\n          137.0\n        ],\n        \"semantic_type\": \"\",\n        \"description\": \"\"\n      }\n    },\n    {\n      \"column\": \"lag4\",\n      \"properties\": {\n        \"dtype\": \"number\",\n        \"std\": 171.85504486624933,\n        \"min\": 104.0,\n        \"max\": 622.0,\n        \"num_unique_values\": 8,\n        \"samples\": [\n          278.9051094890511,\n          356.0,\n          137.0\n        ],\n        \"semantic_type\": \"\",\n        \"description\": \"\"\n      }\n    }\n  ]\n}"
            }
          },
          "metadata": {},
          "execution_count": 15
        }
      ]
    },
    {
      "cell_type": "code",
      "source": [
        "X = data.iloc[:, [2,3,4,5]].values\n",
        "y = data['#Passengers'].values\n",
        "print(X)\n"
      ],
      "metadata": {
        "colab": {
          "base_uri": "https://localhost:8080/"
        },
        "id": "XopjU8LsDu2k",
        "outputId": "9d3bff69-7bd3-406f-8c9c-8be5c9891610"
      },
      "execution_count": null,
      "outputs": [
        {
          "output_type": "stream",
          "name": "stdout",
          "text": [
            "[[148. 135. 121. 129.]\n",
            " [148. 148. 135. 121.]\n",
            " [136. 148. 148. 135.]\n",
            " [119. 136. 148. 148.]\n",
            " [104. 119. 136. 148.]\n",
            " [118. 104. 119. 136.]\n",
            " [115. 118. 104. 119.]\n",
            " [126. 115. 118. 104.]\n",
            " [141. 126. 115. 118.]\n",
            " [135. 141. 126. 115.]\n",
            " [125. 135. 141. 126.]\n",
            " [149. 125. 135. 141.]\n",
            " [170. 149. 125. 135.]\n",
            " [170. 170. 149. 125.]\n",
            " [158. 170. 170. 149.]\n",
            " [133. 158. 170. 170.]\n",
            " [114. 133. 158. 170.]\n",
            " [140. 114. 133. 158.]\n",
            " [145. 140. 114. 133.]\n",
            " [150. 145. 140. 114.]\n",
            " [178. 150. 145. 140.]\n",
            " [163. 178. 150. 145.]\n",
            " [172. 163. 178. 150.]\n",
            " [178. 172. 163. 178.]\n",
            " [199. 178. 172. 163.]\n",
            " [199. 199. 178. 172.]\n",
            " [184. 199. 199. 178.]\n",
            " [162. 184. 199. 199.]\n",
            " [146. 162. 184. 199.]\n",
            " [166. 146. 162. 184.]\n",
            " [171. 166. 146. 162.]\n",
            " [180. 171. 166. 146.]\n",
            " [193. 180. 171. 166.]\n",
            " [181. 193. 180. 171.]\n",
            " [183. 181. 193. 180.]\n",
            " [218. 183. 181. 193.]\n",
            " [230. 218. 183. 181.]\n",
            " [242. 230. 218. 183.]\n",
            " [209. 242. 230. 218.]\n",
            " [191. 209. 242. 230.]\n",
            " [172. 191. 209. 242.]\n",
            " [194. 172. 191. 209.]\n",
            " [196. 194. 172. 191.]\n",
            " [196. 196. 194. 172.]\n",
            " [236. 196. 196. 194.]\n",
            " [235. 236. 196. 196.]\n",
            " [229. 235. 236. 196.]\n",
            " [243. 229. 235. 236.]\n",
            " [264. 243. 229. 235.]\n",
            " [272. 264. 243. 229.]\n",
            " [237. 272. 264. 243.]\n",
            " [211. 237. 272. 264.]\n",
            " [180. 211. 237. 272.]\n",
            " [201. 180. 211. 237.]\n",
            " [204. 201. 180. 211.]\n",
            " [188. 204. 201. 180.]\n",
            " [235. 188. 204. 201.]\n",
            " [227. 235. 188. 204.]\n",
            " [234. 227. 235. 188.]\n",
            " [264. 234. 227. 235.]\n",
            " [302. 264. 234. 227.]\n",
            " [293. 302. 264. 234.]\n",
            " [259. 293. 302. 264.]\n",
            " [229. 259. 293. 302.]\n",
            " [203. 229. 259. 293.]\n",
            " [229. 203. 229. 259.]\n",
            " [242. 229. 203. 229.]\n",
            " [233. 242. 229. 203.]\n",
            " [267. 233. 242. 229.]\n",
            " [269. 267. 233. 242.]\n",
            " [270. 269. 267. 233.]\n",
            " [315. 270. 269. 267.]\n",
            " [364. 315. 270. 269.]\n",
            " [347. 364. 315. 270.]\n",
            " [312. 347. 364. 315.]\n",
            " [274. 312. 347. 364.]\n",
            " [237. 274. 312. 347.]\n",
            " [278. 237. 274. 312.]\n",
            " [284. 278. 237. 274.]\n",
            " [277. 284. 278. 237.]\n",
            " [317. 277. 284. 278.]\n",
            " [313. 317. 277. 284.]\n",
            " [318. 313. 317. 277.]\n",
            " [374. 318. 313. 317.]\n",
            " [413. 374. 318. 313.]\n",
            " [405. 413. 374. 318.]\n",
            " [355. 405. 413. 374.]\n",
            " [306. 355. 405. 413.]\n",
            " [271. 306. 355. 405.]\n",
            " [306. 271. 306. 355.]\n",
            " [315. 306. 271. 306.]\n",
            " [301. 315. 306. 271.]\n",
            " [356. 301. 315. 306.]\n",
            " [348. 356. 301. 315.]\n",
            " [355. 348. 356. 301.]\n",
            " [422. 355. 348. 356.]\n",
            " [465. 422. 355. 348.]\n",
            " [467. 465. 422. 355.]\n",
            " [404. 467. 465. 422.]\n",
            " [347. 404. 467. 465.]\n",
            " [305. 347. 404. 467.]\n",
            " [336. 305. 347. 404.]\n",
            " [340. 336. 305. 347.]\n",
            " [318. 340. 336. 305.]\n",
            " [362. 318. 340. 336.]\n",
            " [348. 362. 318. 340.]\n",
            " [363. 348. 362. 318.]\n",
            " [435. 363. 348. 362.]\n",
            " [491. 435. 363. 348.]\n",
            " [505. 491. 435. 363.]\n",
            " [404. 505. 491. 435.]\n",
            " [359. 404. 505. 491.]\n",
            " [310. 359. 404. 505.]\n",
            " [337. 310. 359. 404.]\n",
            " [360. 337. 310. 359.]\n",
            " [342. 360. 337. 310.]\n",
            " [406. 342. 360. 337.]\n",
            " [396. 406. 342. 360.]\n",
            " [420. 396. 406. 342.]\n",
            " [472. 420. 396. 406.]\n",
            " [548. 472. 420. 396.]\n",
            " [559. 548. 472. 420.]\n",
            " [463. 559. 548. 472.]\n",
            " [407. 463. 559. 548.]\n",
            " [362. 407. 463. 559.]\n",
            " [405. 362. 407. 463.]\n",
            " [417. 405. 362. 407.]\n",
            " [391. 417. 405. 362.]\n",
            " [419. 391. 417. 405.]\n",
            " [461. 419. 391. 417.]\n",
            " [472. 461. 419. 391.]\n",
            " [535. 472. 461. 419.]\n",
            " [622. 535. 472. 461.]\n",
            " [606. 622. 535. 472.]\n",
            " [508. 606. 622. 535.]\n",
            " [461. 508. 606. 622.]\n",
            " [390. 461. 508. 606.]]\n"
          ]
        }
      ]
    },
    {
      "cell_type": "code",
      "source": [
        "print(y)"
      ],
      "metadata": {
        "colab": {
          "base_uri": "https://localhost:8080/"
        },
        "id": "kYXYTNtgFKGX",
        "outputId": "fbae3eb5-24eb-4ad6-b160-8895fb170e91"
      },
      "execution_count": null,
      "outputs": [
        {
          "output_type": "stream",
          "name": "stdout",
          "text": [
            "[148 136 119 104 118 115 126 141 135 125 149 170 170 158 133 114 140 145\n",
            " 150 178 163 172 178 199 199 184 162 146 166 171 180 193 181 183 218 230\n",
            " 242 209 191 172 194 196 196 236 235 229 243 264 272 237 211 180 201 204\n",
            " 188 235 227 234 264 302 293 259 229 203 229 242 233 267 269 270 315 364\n",
            " 347 312 274 237 278 284 277 317 313 318 374 413 405 355 306 271 306 315\n",
            " 301 356 348 355 422 465 467 404 347 305 336 340 318 362 348 363 435 491\n",
            " 505 404 359 310 337 360 342 406 396 420 472 548 559 463 407 362 405 417\n",
            " 391 419 461 472 535 622 606 508 461 390 432]\n"
          ]
        }
      ]
    },
    {
      "cell_type": "code",
      "source": [
        "from sklearn.model_selection import TimeSeriesSplit\n",
        "\n",
        "tss = TimeSeriesSplit(n_splits = 3)\n",
        "split_index = int(len(X)*0.80)\n",
        "X_train,X_test = X[:split_index],X[split_index:]\n",
        "y_train,y_test = y[:split_index],y[split_index:]"
      ],
      "metadata": {
        "id": "GHlp8wTAFXCR"
      },
      "execution_count": null,
      "outputs": []
    },
    {
      "cell_type": "code",
      "source": [
        "# Regressor model\n",
        "regressor = LinearRegression()\n",
        "regressor.fit(X_train, y_train)"
      ],
      "metadata": {
        "colab": {
          "base_uri": "https://localhost:8080/",
          "height": 75
        },
        "id": "6FDLprtPF4Yy",
        "outputId": "2e44e6b4-e204-42e9-a793-39f76e1f8fd3"
      },
      "execution_count": null,
      "outputs": [
        {
          "output_type": "execute_result",
          "data": {
            "text/plain": [
              "LinearRegression()"
            ],
            "text/html": [
              "<style>#sk-container-id-3 {color: black;background-color: white;}#sk-container-id-3 pre{padding: 0;}#sk-container-id-3 div.sk-toggleable {background-color: white;}#sk-container-id-3 label.sk-toggleable__label {cursor: pointer;display: block;width: 100%;margin-bottom: 0;padding: 0.3em;box-sizing: border-box;text-align: center;}#sk-container-id-3 label.sk-toggleable__label-arrow:before {content: \"▸\";float: left;margin-right: 0.25em;color: #696969;}#sk-container-id-3 label.sk-toggleable__label-arrow:hover:before {color: black;}#sk-container-id-3 div.sk-estimator:hover label.sk-toggleable__label-arrow:before {color: black;}#sk-container-id-3 div.sk-toggleable__content {max-height: 0;max-width: 0;overflow: hidden;text-align: left;background-color: #f0f8ff;}#sk-container-id-3 div.sk-toggleable__content pre {margin: 0.2em;color: black;border-radius: 0.25em;background-color: #f0f8ff;}#sk-container-id-3 input.sk-toggleable__control:checked~div.sk-toggleable__content {max-height: 200px;max-width: 100%;overflow: auto;}#sk-container-id-3 input.sk-toggleable__control:checked~label.sk-toggleable__label-arrow:before {content: \"▾\";}#sk-container-id-3 div.sk-estimator input.sk-toggleable__control:checked~label.sk-toggleable__label {background-color: #d4ebff;}#sk-container-id-3 div.sk-label input.sk-toggleable__control:checked~label.sk-toggleable__label {background-color: #d4ebff;}#sk-container-id-3 input.sk-hidden--visually {border: 0;clip: rect(1px 1px 1px 1px);clip: rect(1px, 1px, 1px, 1px);height: 1px;margin: -1px;overflow: hidden;padding: 0;position: absolute;width: 1px;}#sk-container-id-3 div.sk-estimator {font-family: monospace;background-color: #f0f8ff;border: 1px dotted black;border-radius: 0.25em;box-sizing: border-box;margin-bottom: 0.5em;}#sk-container-id-3 div.sk-estimator:hover {background-color: #d4ebff;}#sk-container-id-3 div.sk-parallel-item::after {content: \"\";width: 100%;border-bottom: 1px solid gray;flex-grow: 1;}#sk-container-id-3 div.sk-label:hover label.sk-toggleable__label {background-color: #d4ebff;}#sk-container-id-3 div.sk-serial::before {content: \"\";position: absolute;border-left: 1px solid gray;box-sizing: border-box;top: 0;bottom: 0;left: 50%;z-index: 0;}#sk-container-id-3 div.sk-serial {display: flex;flex-direction: column;align-items: center;background-color: white;padding-right: 0.2em;padding-left: 0.2em;position: relative;}#sk-container-id-3 div.sk-item {position: relative;z-index: 1;}#sk-container-id-3 div.sk-parallel {display: flex;align-items: stretch;justify-content: center;background-color: white;position: relative;}#sk-container-id-3 div.sk-item::before, #sk-container-id-3 div.sk-parallel-item::before {content: \"\";position: absolute;border-left: 1px solid gray;box-sizing: border-box;top: 0;bottom: 0;left: 50%;z-index: -1;}#sk-container-id-3 div.sk-parallel-item {display: flex;flex-direction: column;z-index: 1;position: relative;background-color: white;}#sk-container-id-3 div.sk-parallel-item:first-child::after {align-self: flex-end;width: 50%;}#sk-container-id-3 div.sk-parallel-item:last-child::after {align-self: flex-start;width: 50%;}#sk-container-id-3 div.sk-parallel-item:only-child::after {width: 0;}#sk-container-id-3 div.sk-dashed-wrapped {border: 1px dashed gray;margin: 0 0.4em 0.5em 0.4em;box-sizing: border-box;padding-bottom: 0.4em;background-color: white;}#sk-container-id-3 div.sk-label label {font-family: monospace;font-weight: bold;display: inline-block;line-height: 1.2em;}#sk-container-id-3 div.sk-label-container {text-align: center;}#sk-container-id-3 div.sk-container {/* jupyter's `normalize.less` sets `[hidden] { display: none; }` but bootstrap.min.css set `[hidden] { display: none !important; }` so we also need the `!important` here to be able to override the default hidden behavior on the sphinx rendered scikit-learn.org. See: https://github.com/scikit-learn/scikit-learn/issues/21755 */display: inline-block !important;position: relative;}#sk-container-id-3 div.sk-text-repr-fallback {display: none;}</style><div id=\"sk-container-id-3\" class=\"sk-top-container\"><div class=\"sk-text-repr-fallback\"><pre>LinearRegression()</pre><b>In a Jupyter environment, please rerun this cell to show the HTML representation or trust the notebook. <br />On GitHub, the HTML representation is unable to render, please try loading this page with nbviewer.org.</b></div><div class=\"sk-container\" hidden><div class=\"sk-item\"><div class=\"sk-estimator sk-toggleable\"><input class=\"sk-toggleable__control sk-hidden--visually\" id=\"sk-estimator-id-3\" type=\"checkbox\" checked><label for=\"sk-estimator-id-3\" class=\"sk-toggleable__label sk-toggleable__label-arrow\">LinearRegression</label><div class=\"sk-toggleable__content\"><pre>LinearRegression()</pre></div></div></div></div></div>"
            ]
          },
          "metadata": {},
          "execution_count": 32
        }
      ]
    },
    {
      "cell_type": "code",
      "source": [
        "# Predict result\n",
        "y_pred = regressor.predict(X_test)"
      ],
      "metadata": {
        "id": "rUZMq2V0F9un"
      },
      "execution_count": null,
      "outputs": []
    },
    {
      "cell_type": "code",
      "source": [
        "print(y_pred)"
      ],
      "metadata": {
        "colab": {
          "base_uri": "https://localhost:8080/"
        },
        "id": "F857Mtm_F_rk",
        "outputId": "d1605ae7-2d89-4369-bdb0-db8d55a601a8"
      },
      "execution_count": null,
      "outputs": [
        {
          "output_type": "stream",
          "name": "stdout",
          "text": [
            "[494.43764048 363.90248502 362.20259556 304.75384311 357.26767895\n",
            " 364.01343013 331.26747855 430.28268766 379.97443255 427.5976433\n",
            " 483.27693146 559.86638805 542.75455991 423.41731092 404.3494673\n",
            " 358.91383969 428.74066032 412.71820766 378.07262124 432.14245167\n",
            " 468.6171476  464.73819741 550.01852087 634.16680184 576.90174017\n",
            " 471.55008099 461.17641106 375.50726251]\n"
          ]
        }
      ]
    },
    {
      "cell_type": "code",
      "source": [
        "y_test"
      ],
      "metadata": {
        "colab": {
          "base_uri": "https://localhost:8080/"
        },
        "id": "pSlLKQsVJojk",
        "outputId": "3b4328d0-f5a8-4457-8740-3cb3d70de654"
      },
      "execution_count": null,
      "outputs": [
        {
          "output_type": "execute_result",
          "data": {
            "text/plain": [
              "array([404, 359, 310, 337, 360, 342, 406, 396, 420, 472, 548, 559, 463,\n",
              "       407, 362, 405, 417, 391, 419, 461, 472, 535, 622, 606, 508, 461,\n",
              "       390, 432])"
            ]
          },
          "metadata": {},
          "execution_count": 41
        }
      ]
    },
    {
      "cell_type": "code",
      "source": [
        "import matplotlib.pyplot as plt"
      ],
      "metadata": {
        "id": "MnEPkB7yJM9x"
      },
      "execution_count": null,
      "outputs": []
    },
    {
      "cell_type": "code",
      "source": [
        "from statsmodels.tsa.seasonal import seasonal_decompose"
      ],
      "metadata": {
        "id": "Xla9oxvcJLVA"
      },
      "execution_count": null,
      "outputs": []
    },
    {
      "cell_type": "code",
      "source": [
        "decompose = seasonal_decompose(data['#Passengers'],model='additive', period=7)\n",
        "decompose.plot()\n",
        "plt.show()"
      ],
      "metadata": {
        "colab": {
          "base_uri": "https://localhost:8080/",
          "height": 487
        },
        "id": "FxFSo9H6Jgtr",
        "outputId": "aa73bfb4-4b98-43cd-82f0-eaad3c913f8a"
      },
      "execution_count": null,
      "outputs": [
        {
          "output_type": "display_data",
          "data": {
            "text/plain": [
              "<Figure size 640x480 with 4 Axes>"
            ],
            "image/png": "[encoded data removed]"
          },
          "metadata": {}
        }
      ]
    },
    {
      "cell_type": "code",
      "source": [
        "plt.plot(y_test,label ='Actual')\n",
        "plt.plot(y_pred,label='Predicted')\n",
        "plt.show"
      ],
      "metadata": {
        "colab": {
          "base_uri": "https://localhost:8080/",
          "height": 605
        },
        "id": "TYReN77TJilD",
        "outputId": "2703a4ad-7696-4b76-c52f-67788ee64603"
      },
      "execution_count": null,
      "outputs": [
        {
          "output_type": "execute_result",
          "data": {
            "text/plain": [
              "<function matplotlib.pyplot.show(close=None, block=None)>"
            ],
            "text/html": [
              "<div style=\"max-width:800px; border: 1px solid var(--colab-border-color);\"><style>\n",
              "      pre.function-repr-contents {\n",
              "        overflow-x: auto;\n",
              "        padding: 8px 12px;\n",
              "        max-height: 500px;\n",
              "      }\n",
              "\n",
              "      pre.function-repr-contents.function-repr-contents-collapsed {\n",
              "        cursor: pointer;\n",
              "        max-height: 100px;\n",
              "      }\n",
              "    </style>\n",
              "    <pre style=\"white-space: initial; background:\n",
              "         var(--colab-secondary-surface-color); padding: 8px 12px;\n",
              "         border-bottom: 1px solid var(--colab-border-color);\"><b>matplotlib.pyplot.show</b><br/>def show(*args, **kwargs)</pre><pre class=\"function-repr-contents function-repr-contents-collapsed\" style=\"\"><a class=\"filepath\" style=\"display:none\" href=\"#\">/usr/local/lib/python3.10/dist-packages/matplotlib/pyplot.py</a>Display all open figures.\n",
              "\n",
              "Parameters\n",
              "----------\n",
              "block : bool, optional\n",
              "    Whether to wait for all figures to be closed before returning.\n",
              "\n",
              "    If `True` block and run the GUI main loop until all figure windows\n",
              "    are closed.\n",
              "\n",
              "    If `False` ensure that all figure windows are displayed and return\n",
              "    immediately.  In this case, you are responsible for ensuring\n",
              "    that the event loop is running to have responsive figures.\n",
              "\n",
              "    Defaults to True in non-interactive mode and to False in interactive\n",
              "    mode (see `.pyplot.isinteractive`).\n",
              "\n",
              "See Also\n",
              "--------\n",
              "ion : Enable interactive mode, which shows / updates the figure after\n",
              "      every plotting command, so that calling ``show()`` is not necessary.\n",
              "ioff : Disable interactive mode.\n",
              "savefig : Save the figure to an image file instead of showing it on screen.\n",
              "\n",
              "Notes\n",
              "-----\n",
              "**Saving figures to file and showing a window at the same time**\n",
              "\n",
              "If you want an image file as well as a user interface window, use\n",
              "`.pyplot.savefig` before `.pyplot.show`. At the end of (a blocking)\n",
              "``show()`` the figure is closed and thus unregistered from pyplot. Calling\n",
              "`.pyplot.savefig` afterwards would save a new and thus empty figure. This\n",
              "limitation of command order does not apply if the show is non-blocking or\n",
              "if you keep a reference to the figure and use `.Figure.savefig`.\n",
              "\n",
              "**Auto-show in jupyter notebooks**\n",
              "\n",
              "The jupyter backends (activated via ``%matplotlib inline``,\n",
              "``%matplotlib notebook``, or ``%matplotlib widget``), call ``show()`` at\n",
              "the end of every cell by default. Thus, you usually don&#x27;t have to call it\n",
              "explicitly there.</pre>\n",
              "      <script>\n",
              "      if (google.colab.kernel.accessAllowed && google.colab.files && google.colab.files.view) {\n",
              "        for (const element of document.querySelectorAll('.filepath')) {\n",
              "          element.style.display = 'block'\n",
              "          element.onclick = (event) => {\n",
              "            event.preventDefault();\n",
              "            event.stopPropagation();\n",
              "            google.colab.files.view(element.textContent, 401);\n",
              "          };\n",
              "        }\n",
              "      }\n",
              "      for (const element of document.querySelectorAll('.function-repr-contents')) {\n",
              "        element.onclick = (event) => {\n",
              "          event.preventDefault();\n",
              "          event.stopPropagation();\n",
              "          element.classList.toggle('function-repr-contents-collapsed');\n",
              "        };\n",
              "      }\n",
              "      </script>\n",
              "      </div>"
            ]
          },
          "metadata": {},
          "execution_count": 48
        },
        {
          "output_type": "display_data",
          "data": {
            "text/plain": [
              "<Figure size 640x480 with 1 Axes>"
            ],
            "image/png": "[encoded data removed]"
          },
          "metadata": {}
        }
      ]
    },
    {
      "cell_type": "markdown",
      "source": [
        "Neural network model\n"
      ],
      "metadata": {
        "id": "P0V5-vrYMoyO"
      }
    },
    {
      "cell_type": "code",
      "source": [
        "from tensorflow.keras.models import Sequential\n",
        "from tensorflow.keras.layers import Dense\n",
        "import keras"
      ],
      "metadata": {
        "id": "rgsWpb5QKB-W"
      },
      "execution_count": null,
      "outputs": []
    },
    {
      "cell_type": "code",
      "source": [
        "model = Sequential()\n",
        "model.add(Dense(64, input_dim=X_train.shape[1], activation='relu'))\n",
        "model.add(Dense(32, activation='relu'))\n",
        "model.add(Dense(16, activation='relu'))\n",
        "model.add(Dense(1))"
      ],
      "metadata": {
        "id": "B1RfgvbLMvhI"
      },
      "execution_count": null,
      "outputs": []
    },
    {
      "cell_type": "code",
      "source": [
        "# Compilation of model\n",
        "model.compile(optimizer='adam',\n",
        "              loss='mean_squared_error')"
      ],
      "metadata": {
        "id": "1aYRKwQTM9BZ"
      },
      "execution_count": null,
      "outputs": []
    },
    {
      "cell_type": "code",
      "source": [
        "history = model.fit(X_train, y_train, epochs=100)"
      ],
      "metadata": {
        "colab": {
          "base_uri": "https://localhost:8080/"
        },
        "id": "O41HqGpLNEPX",
        "outputId": "4a132d30-0778-4bf2-bbbd-f82e6999ecc7"
      },
      "execution_count": null,
      "outputs": [
        {
          "output_type": "stream",
          "name": "stdout",
          "text": [
            "Epoch 1/100\n",
            "4/4 [==============================] - 1s 6ms/step - loss: 79465.8203\n",
            "Epoch 2/100\n",
            "4/4 [==============================] - 0s 5ms/step - loss: 50276.3203\n",
            "Epoch 3/100\n",
            "4/4 [==============================] - 0s 6ms/step - loss: 29133.9316\n",
            "Epoch 4/100\n",
            "4/4 [==============================] - 0s 5ms/step - loss: 17718.8867\n",
            "Epoch 5/100\n",
            "4/4 [==============================] - 0s 5ms/step - loss: 9995.7129\n",
            "Epoch 6/100\n",
            "4/4 [==============================] - 0s 6ms/step - loss: 4904.8345\n",
            "Epoch 7/100\n",
            "4/4 [==============================] - 0s 6ms/step - loss: 2343.6318\n",
            "Epoch 8/100\n",
            "4/4 [==============================] - 0s 5ms/step - loss: 2151.3491\n",
            "Epoch 9/100\n",
            "4/4 [==============================] - 0s 5ms/step - loss: 2697.8943\n",
            "Epoch 10/100\n",
            "4/4 [==============================] - 0s 5ms/step - loss: 3020.1042\n",
            "Epoch 11/100\n",
            "4/4 [==============================] - 0s 4ms/step - loss: 2734.9604\n",
            "Epoch 12/100\n",
            "4/4 [==============================] - 0s 4ms/step - loss: 2218.7947\n",
            "Epoch 13/100\n",
            "4/4 [==============================] - 0s 4ms/step - loss: 1958.5225\n",
            "Epoch 14/100\n",
            "4/4 [==============================] - 0s 5ms/step - loss: 1886.7401\n",
            "Epoch 15/100\n",
            "4/4 [==============================] - 0s 5ms/step - loss: 1881.0909\n",
            "Epoch 16/100\n",
            "4/4 [==============================] - 0s 5ms/step - loss: 1851.6957\n",
            "Epoch 17/100\n",
            "4/4 [==============================] - 0s 5ms/step - loss: 1792.7288\n",
            "Epoch 18/100\n",
            "4/4 [==============================] - 0s 8ms/step - loss: 1715.2568\n",
            "Epoch 19/100\n",
            "4/4 [==============================] - 0s 7ms/step - loss: 1705.7878\n",
            "Epoch 20/100\n",
            "4/4 [==============================] - 0s 5ms/step - loss: 1668.4335\n",
            "Epoch 21/100\n",
            "4/4 [==============================] - 0s 7ms/step - loss: 1633.0701\n",
            "Epoch 22/100\n",
            "4/4 [==============================] - 0s 5ms/step - loss: 1600.9419\n",
            "Epoch 23/100\n",
            "4/4 [==============================] - 0s 8ms/step - loss: 1583.5466\n",
            "Epoch 24/100\n",
            "4/4 [==============================] - 0s 8ms/step - loss: 1553.2841\n",
            "Epoch 25/100\n",
            "4/4 [==============================] - 0s 9ms/step - loss: 1529.4542\n",
            "Epoch 26/100\n",
            "4/4 [==============================] - 0s 7ms/step - loss: 1502.1940\n",
            "Epoch 27/100\n",
            "4/4 [==============================] - 0s 8ms/step - loss: 1478.0706\n",
            "Epoch 28/100\n",
            "4/4 [==============================] - 0s 8ms/step - loss: 1452.6833\n",
            "Epoch 29/100\n",
            "4/4 [==============================] - 0s 7ms/step - loss: 1423.7828\n",
            "Epoch 30/100\n",
            "4/4 [==============================] - 0s 7ms/step - loss: 1404.8502\n",
            "Epoch 31/100\n",
            "4/4 [==============================] - 0s 8ms/step - loss: 1379.4640\n",
            "Epoch 32/100\n",
            "4/4 [==============================] - 0s 7ms/step - loss: 1361.3325\n",
            "Epoch 33/100\n",
            "4/4 [==============================] - 0s 6ms/step - loss: 1341.0499\n",
            "Epoch 34/100\n",
            "4/4 [==============================] - 0s 6ms/step - loss: 1321.5713\n",
            "Epoch 35/100\n",
            "4/4 [==============================] - 0s 6ms/step - loss: 1306.6381\n",
            "Epoch 36/100\n",
            "4/4 [==============================] - 0s 5ms/step - loss: 1293.1388\n",
            "Epoch 37/100\n",
            "4/4 [==============================] - 0s 4ms/step - loss: 1280.5574\n",
            "Epoch 38/100\n",
            "4/4 [==============================] - 0s 6ms/step - loss: 1261.2346\n",
            "Epoch 39/100\n",
            "4/4 [==============================] - 0s 6ms/step - loss: 1247.2107\n",
            "Epoch 40/100\n",
            "4/4 [==============================] - 0s 7ms/step - loss: 1239.4373\n",
            "Epoch 41/100\n",
            "4/4 [==============================] - 0s 7ms/step - loss: 1233.0123\n",
            "Epoch 42/100\n",
            "4/4 [==============================] - 0s 7ms/step - loss: 1213.0889\n",
            "Epoch 43/100\n",
            "4/4 [==============================] - 0s 6ms/step - loss: 1188.2646\n",
            "Epoch 44/100\n",
            "4/4 [==============================] - 0s 6ms/step - loss: 1191.3510\n",
            "Epoch 45/100\n",
            "4/4 [==============================] - 0s 7ms/step - loss: 1180.5417\n",
            "Epoch 46/100\n",
            "4/4 [==============================] - 0s 9ms/step - loss: 1162.1525\n",
            "Epoch 47/100\n",
            "4/4 [==============================] - 0s 9ms/step - loss: 1141.8134\n",
            "Epoch 48/100\n",
            "4/4 [==============================] - 0s 6ms/step - loss: 1128.8120\n",
            "Epoch 49/100\n",
            "4/4 [==============================] - 0s 6ms/step - loss: 1118.5316\n",
            "Epoch 50/100\n",
            "4/4 [==============================] - 0s 9ms/step - loss: 1105.7402\n",
            "Epoch 51/100\n",
            "4/4 [==============================] - 0s 7ms/step - loss: 1094.3157\n",
            "Epoch 52/100\n",
            "4/4 [==============================] - 0s 7ms/step - loss: 1085.3193\n",
            "Epoch 53/100\n",
            "4/4 [==============================] - 0s 8ms/step - loss: 1072.5455\n",
            "Epoch 54/100\n",
            "4/4 [==============================] - 0s 8ms/step - loss: 1061.5874\n",
            "Epoch 55/100\n",
            "4/4 [==============================] - 0s 6ms/step - loss: 1051.5470\n",
            "Epoch 56/100\n",
            "4/4 [==============================] - 0s 8ms/step - loss: 1042.2095\n",
            "Epoch 57/100\n",
            "4/4 [==============================] - 0s 8ms/step - loss: 1032.2350\n",
            "Epoch 58/100\n",
            "4/4 [==============================] - 0s 9ms/step - loss: 1015.7137\n",
            "Epoch 59/100\n",
            "4/4 [==============================] - 0s 7ms/step - loss: 1012.1412\n",
            "Epoch 60/100\n",
            "4/4 [==============================] - 0s 7ms/step - loss: 1024.5511\n",
            "Epoch 61/100\n",
            "4/4 [==============================] - 0s 6ms/step - loss: 995.0584\n",
            "Epoch 62/100\n",
            "4/4 [==============================] - 0s 7ms/step - loss: 984.1375\n",
            "Epoch 63/100\n",
            "4/4 [==============================] - 0s 10ms/step - loss: 984.8650\n",
            "Epoch 64/100\n",
            "4/4 [==============================] - 0s 11ms/step - loss: 978.7096\n",
            "Epoch 65/100\n",
            "4/4 [==============================] - 0s 10ms/step - loss: 971.7714\n",
            "Epoch 66/100\n",
            "4/4 [==============================] - 0s 8ms/step - loss: 948.4316\n",
            "Epoch 67/100\n",
            "4/4 [==============================] - 0s 7ms/step - loss: 947.2679\n",
            "Epoch 68/100\n",
            "4/4 [==============================] - 0s 7ms/step - loss: 927.0546\n",
            "Epoch 69/100\n",
            "4/4 [==============================] - 0s 6ms/step - loss: 932.1575\n",
            "Epoch 70/100\n",
            "4/4 [==============================] - 0s 6ms/step - loss: 929.4038\n",
            "Epoch 71/100\n",
            "4/4 [==============================] - 0s 6ms/step - loss: 947.5515\n",
            "Epoch 72/100\n",
            "4/4 [==============================] - 0s 5ms/step - loss: 908.4511\n",
            "Epoch 73/100\n",
            "4/4 [==============================] - 0s 5ms/step - loss: 900.2505\n",
            "Epoch 74/100\n",
            "4/4 [==============================] - 0s 6ms/step - loss: 899.2986\n",
            "Epoch 75/100\n",
            "4/4 [==============================] - 0s 4ms/step - loss: 890.2624\n",
            "Epoch 76/100\n",
            "4/4 [==============================] - 0s 4ms/step - loss: 879.0839\n",
            "Epoch 77/100\n",
            "4/4 [==============================] - 0s 4ms/step - loss: 876.8636\n",
            "Epoch 78/100\n",
            "4/4 [==============================] - 0s 4ms/step - loss: 870.5292\n",
            "Epoch 79/100\n",
            "4/4 [==============================] - 0s 5ms/step - loss: 869.4594\n",
            "Epoch 80/100\n",
            "4/4 [==============================] - 0s 5ms/step - loss: 864.1797\n",
            "Epoch 81/100\n",
            "4/4 [==============================] - 0s 4ms/step - loss: 862.7924\n",
            "Epoch 82/100\n",
            "4/4 [==============================] - 0s 6ms/step - loss: 858.1833\n",
            "Epoch 83/100\n",
            "4/4 [==============================] - 0s 4ms/step - loss: 843.4951\n",
            "Epoch 84/100\n",
            "4/4 [==============================] - 0s 4ms/step - loss: 836.6266\n",
            "Epoch 85/100\n",
            "4/4 [==============================] - 0s 9ms/step - loss: 834.3486\n",
            "Epoch 86/100\n",
            "4/4 [==============================] - 0s 4ms/step - loss: 831.2976\n",
            "Epoch 87/100\n",
            "4/4 [==============================] - 0s 4ms/step - loss: 826.8314\n",
            "Epoch 88/100\n",
            "4/4 [==============================] - 0s 7ms/step - loss: 826.4824\n",
            "Epoch 89/100\n",
            "4/4 [==============================] - 0s 5ms/step - loss: 822.6954\n",
            "Epoch 90/100\n",
            "4/4 [==============================] - 0s 4ms/step - loss: 816.1045\n",
            "Epoch 91/100\n",
            "4/4 [==============================] - 0s 5ms/step - loss: 818.2516\n",
            "Epoch 92/100\n",
            "4/4 [==============================] - 0s 6ms/step - loss: 811.7834\n",
            "Epoch 93/100\n",
            "4/4 [==============================] - 0s 4ms/step - loss: 808.4253\n",
            "Epoch 94/100\n",
            "4/4 [==============================] - 0s 4ms/step - loss: 804.7039\n",
            "Epoch 95/100\n",
            "4/4 [==============================] - 0s 5ms/step - loss: 808.2045\n",
            "Epoch 96/100\n",
            "4/4 [==============================] - 0s 4ms/step - loss: 796.5371\n",
            "Epoch 97/100\n",
            "4/4 [==============================] - 0s 4ms/step - loss: 796.3159\n",
            "Epoch 98/100\n",
            "4/4 [==============================] - 0s 4ms/step - loss: 804.1115\n",
            "Epoch 99/100\n",
            "4/4 [==============================] - 0s 4ms/step - loss: 785.1418\n",
            "Epoch 100/100\n",
            "4/4 [==============================] - 0s 4ms/step - loss: 788.4958\n"
          ]
        }
      ]
    },
    {
      "cell_type": "code",
      "source": [
        "ypred2 = model.predict(X_test)"
      ],
      "metadata": {
        "colab": {
          "base_uri": "https://localhost:8080/"
        },
        "id": "SJkbm9dfNXWi",
        "outputId": "c6b21521-325c-4b1a-ffdf-99b3c2593c54"
      },
      "execution_count": null,
      "outputs": [
        {
          "output_type": "stream",
          "name": "stdout",
          "text": [
            "1/1 [==============================] - 0s 25ms/step\n"
          ]
        }
      ]
    },
    {
      "cell_type": "code",
      "source": [
        "plt.plot(y_test,label ='Actual')\n",
        "plt.plot(y,label='Predicted')\n",
        "plt.show"
      ],
      "metadata": {
        "colab": {
          "base_uri": "https://localhost:8080/",
          "height": 605
        },
        "id": "ZGXJWC40STf7",
        "outputId": "6951cac6-42df-4af6-ee30-003cb622aac4"
      },
      "execution_count": null,
      "outputs": [
        {
          "output_type": "execute_result",
          "data": {
            "text/plain": [
              "<function matplotlib.pyplot.show(close=None, block=None)>"
            ],
            "text/html": [
              "<div style=\"max-width:800px; border: 1px solid var(--colab-border-color);\"><style>\n",
              "      pre.function-repr-contents {\n",
              "        overflow-x: auto;\n",
              "        padding: 8px 12px;\n",
              "        max-height: 500px;\n",
              "      }\n",
              "\n",
              "      pre.function-repr-contents.function-repr-contents-collapsed {\n",
              "        cursor: pointer;\n",
              "        max-height: 100px;\n",
              "      }\n",
              "    </style>\n",
              "    <pre style=\"white-space: initial; background:\n",
              "         var(--colab-secondary-surface-color); padding: 8px 12px;\n",
              "         border-bottom: 1px solid var(--colab-border-color);\"><b>matplotlib.pyplot.show</b><br/>def show(*args, **kwargs)</pre><pre class=\"function-repr-contents function-repr-contents-collapsed\" style=\"\"><a class=\"filepath\" style=\"display:none\" href=\"#\">/usr/local/lib/python3.10/dist-packages/matplotlib/pyplot.py</a>Display all open figures.\n",
              "\n",
              "Parameters\n",
              "----------\n",
              "block : bool, optional\n",
              "    Whether to wait for all figures to be closed before returning.\n",
              "\n",
              "    If `True` block and run the GUI main loop until all figure windows\n",
              "    are closed.\n",
              "\n",
              "    If `False` ensure that all figure windows are displayed and return\n",
              "    immediately.  In this case, you are responsible for ensuring\n",
              "    that the event loop is running to have responsive figures.\n",
              "\n",
              "    Defaults to True in non-interactive mode and to False in interactive\n",
              "    mode (see `.pyplot.isinteractive`).\n",
              "\n",
              "See Also\n",
              "--------\n",
              "ion : Enable interactive mode, which shows / updates the figure after\n",
              "      every plotting command, so that calling ``show()`` is not necessary.\n",
              "ioff : Disable interactive mode.\n",
              "savefig : Save the figure to an image file instead of showing it on screen.\n",
              "\n",
              "Notes\n",
              "-----\n",
              "**Saving figures to file and showing a window at the same time**\n",
              "\n",
              "If you want an image file as well as a user interface window, use\n",
              "`.pyplot.savefig` before `.pyplot.show`. At the end of (a blocking)\n",
              "``show()`` the figure is closed and thus unregistered from pyplot. Calling\n",
              "`.pyplot.savefig` afterwards would save a new and thus empty figure. This\n",
              "limitation of command order does not apply if the show is non-blocking or\n",
              "if you keep a reference to the figure and use `.Figure.savefig`.\n",
              "\n",
              "**Auto-show in jupyter notebooks**\n",
              "\n",
              "The jupyter backends (activated via ``%matplotlib inline``,\n",
              "``%matplotlib notebook``, or ``%matplotlib widget``), call ``show()`` at\n",
              "the end of every cell by default. Thus, you usually don&#x27;t have to call it\n",
              "explicitly there.</pre>\n",
              "      <script>\n",
              "      if (google.colab.kernel.accessAllowed && google.colab.files && google.colab.files.view) {\n",
              "        for (const element of document.querySelectorAll('.filepath')) {\n",
              "          element.style.display = 'block'\n",
              "          element.onclick = (event) => {\n",
              "            event.preventDefault();\n",
              "            event.stopPropagation();\n",
              "            google.colab.files.view(element.textContent, 401);\n",
              "          };\n",
              "        }\n",
              "      }\n",
              "      for (const element of document.querySelectorAll('.function-repr-contents')) {\n",
              "        element.onclick = (event) => {\n",
              "          event.preventDefault();\n",
              "          event.stopPropagation();\n",
              "          element.classList.toggle('function-repr-contents-collapsed');\n",
              "        };\n",
              "      }\n",
              "      </script>\n",
              "      </div>"
            ]
          },
          "metadata": {},
          "execution_count": 90
        },
        {
          "output_type": "display_data",
          "data": {
            "text/plain": [
              "<Figure size 640x480 with 1 Axes>"
            ],
            "image/png": "[encoded data removed]"
          },
          "metadata": {}
        }
      ]
    },
    {
      "cell_type": "code",
      "source": [],
      "metadata": {
        "id": "tIfy0a74SgFu"
      },
      "execution_count": null,
      "outputs": []
    }
  ]
}